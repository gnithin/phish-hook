{
 "cells": [
  {
   "cell_type": "code",
   "execution_count": 1,
   "id": "77e41218",
   "metadata": {},
   "outputs": [
    {
     "name": "stdout",
     "output_type": "stream",
     "text": [
      "Requirement already satisfied: pandas in /Users/kamehameha/college/svs/project/server/venv/lib/python3.9/site-packages (1.2.4)\n",
      "Requirement already satisfied: python-dateutil>=2.7.3 in /Users/kamehameha/college/svs/project/server/venv/lib/python3.9/site-packages (from pandas) (2.8.1)\n",
      "Requirement already satisfied: numpy>=1.16.5 in /Users/kamehameha/college/svs/project/server/venv/lib/python3.9/site-packages (from pandas) (1.20.2)\n",
      "Requirement already satisfied: pytz>=2017.3 in /Users/kamehameha/college/svs/project/server/venv/lib/python3.9/site-packages (from pandas) (2021.1)\n",
      "Requirement already satisfied: six>=1.5 in /Users/kamehameha/college/svs/project/server/venv/lib/python3.9/site-packages (from python-dateutil>=2.7.3->pandas) (1.15.0)\n",
      "\u001b[33mWARNING: You are using pip version 21.0.1; however, version 21.1 is available.\n",
      "You should consider upgrading via the '/Users/kamehameha/college/svs/project/server/venv/bin/python3.9 -m pip install --upgrade pip' command.\u001b[0m\n",
      "Collecting sklearn\n",
      "  Downloading sklearn-0.0.tar.gz (1.1 kB)\n",
      "Requirement already satisfied: scikit-learn in /Users/kamehameha/college/svs/project/server/venv/lib/python3.9/site-packages (from sklearn) (0.24.1)\n",
      "Requirement already satisfied: numpy>=1.13.3 in /Users/kamehameha/college/svs/project/server/venv/lib/python3.9/site-packages (from scikit-learn->sklearn) (1.20.2)\n",
      "Requirement already satisfied: joblib>=0.11 in /Users/kamehameha/college/svs/project/server/venv/lib/python3.9/site-packages (from scikit-learn->sklearn) (1.0.1)\n",
      "Requirement already satisfied: threadpoolctl>=2.0.0 in /Users/kamehameha/college/svs/project/server/venv/lib/python3.9/site-packages (from scikit-learn->sklearn) (2.1.0)\n",
      "Requirement already satisfied: scipy>=0.19.1 in /Users/kamehameha/college/svs/project/server/venv/lib/python3.9/site-packages (from scikit-learn->sklearn) (1.6.2)\n",
      "Building wheels for collected packages: sklearn\n",
      "  Building wheel for sklearn (setup.py) ... \u001b[?25ldone\n",
      "\u001b[?25h  Created wheel for sklearn: filename=sklearn-0.0-py2.py3-none-any.whl size=1316 sha256=243f5762bd766f9fb18d6d5001534e91809599a0bfc65242b335785cdb87da24\n",
      "  Stored in directory: /Users/kamehameha/Library/Caches/pip/wheels/e4/7b/98/b6466d71b8d738a0c547008b9eb39bf8676d1ff6ca4b22af1c\n",
      "Successfully built sklearn\n",
      "Installing collected packages: sklearn\n",
      "Successfully installed sklearn-0.0\n",
      "\u001b[33mWARNING: You are using pip version 21.0.1; however, version 21.1 is available.\n",
      "You should consider upgrading via the '/Users/kamehameha/college/svs/project/server/venv/bin/python3.9 -m pip install --upgrade pip' command.\u001b[0m\n"
     ]
    }
   ],
   "source": [
    "import sys\n",
    "!{sys.executable} -m pip install pandas\n",
    "!{sys.executable} -m pip install sklearn"
   ]
  },
  {
   "cell_type": "code",
   "execution_count": 20,
   "id": "e8eb91b3",
   "metadata": {},
   "outputs": [],
   "source": [
    "import numpy as np\n",
    "from sklearn import *\n",
    "from sklearn.linear_model import LogisticRegression\n",
    "from sklearn.metrics import accuracy_score\n",
    "from sklearn import tree\n",
    "import pickle\n",
    "from joblib import dump, load\n",
    "from sklearn.model_selection import cross_val_predict\n",
    "from sklearn.metrics import confusion_matrix\n",
    "from sklearn.model_selection import train_test_split"
   ]
  },
  {
   "cell_type": "code",
   "execution_count": 4,
   "id": "e0976e74",
   "metadata": {},
   "outputs": [],
   "source": [
    "training_data = np.genfromtxt('../../data/uci.csv', delimiter=',', dtype=np.int32)\n",
    "\n",
    "training_data = training_data[:, [0,1,2,3,4,5,6,8,10,11,23,26,30]]"
   ]
  },
  {
   "cell_type": "code",
   "execution_count": 5,
   "id": "de4104ff",
   "metadata": {},
   "outputs": [],
   "source": [
    "inputs = training_data[:,:-1]\n",
    "outputs = training_data[:, -1]"
   ]
  },
  {
   "cell_type": "code",
   "execution_count": 54,
   "id": "e5edde0d",
   "metadata": {},
   "outputs": [
    {
     "data": {
      "text/plain": [
       "((8844, 12), (8844,), (2211, 12), (2211,))"
      ]
     },
     "execution_count": 54,
     "metadata": {},
     "output_type": "execute_result"
    }
   ],
   "source": [
    "# training_inputs = inputs[:5528]\n",
    "# training_outputs = outputs[:5528] \n",
    "# testing_inputs = inputs[5528:]\n",
    "# testing_outputs = outputs[5528:]\n",
    "\n",
    "\n",
    "training_inputs, testing_inputs, training_outputs, testing_outputs = train_test_split(\n",
    "    inputs, \n",
    "    outputs, \n",
    "    test_size=0.2\n",
    ")\n",
    "\n",
    "training_inputs.shape, training_outputs.shape, testing_inputs.shape, testing_outputs.shape"
   ]
  },
  {
   "cell_type": "code",
   "execution_count": 6,
   "id": "28504405",
   "metadata": {},
   "outputs": [],
   "source": [
    "# classifier = LogisticRegression()"
   ]
  },
  {
   "cell_type": "code",
   "execution_count": 55,
   "id": "c96705a1",
   "metadata": {},
   "outputs": [],
   "source": [
    "classifier = tree.DecisionTreeClassifier()"
   ]
  },
  {
   "cell_type": "code",
   "execution_count": 56,
   "id": "bc641c48",
   "metadata": {},
   "outputs": [
    {
     "data": {
      "text/plain": [
       "DecisionTreeClassifier()"
      ]
     },
     "execution_count": 56,
     "metadata": {},
     "output_type": "execute_result"
    }
   ],
   "source": [
    "classifier.fit(training_inputs, training_outputs)"
   ]
  },
  {
   "cell_type": "code",
   "execution_count": 61,
   "id": "6576c491",
   "metadata": {},
   "outputs": [],
   "source": [
    "fileName = 'decision-uci.joblib'\n",
    "dump(classifier, fileName) \n",
    "classifier = load(fileName)"
   ]
  },
  {
   "cell_type": "code",
   "execution_count": 57,
   "id": "91acd020",
   "metadata": {},
   "outputs": [],
   "source": [
    "predictions = classifier.predict(testing_inputs)"
   ]
  },
  {
   "cell_type": "code",
   "execution_count": 60,
   "id": "781e64d3",
   "metadata": {},
   "outputs": [
    {
     "name": "stdout",
     "output_type": "stream",
     "text": [
      "The accuracy of your Decision tree on testing data is: 80.82315694255993\n"
     ]
    }
   ],
   "source": [
    "accuracy = 100.0 * accuracy_score(testing_outputs, predictions)\n",
    "\n",
    "print (\"The accuracy of your Decision tree on testing data is: \" + str(accuracy))"
   ]
  },
  {
   "cell_type": "code",
   "execution_count": null,
   "id": "4b257749",
   "metadata": {},
   "outputs": [],
   "source": []
  },
  {
   "cell_type": "code",
   "execution_count": null,
   "id": "8e34e1cd",
   "metadata": {},
   "outputs": [],
   "source": []
  }
 ],
 "metadata": {
  "kernelspec": {
   "display_name": "Python 3",
   "language": "python",
   "name": "python3"
  },
  "language_info": {
   "codemirror_mode": {
    "name": "ipython",
    "version": 3
   },
   "file_extension": ".py",
   "mimetype": "text/x-python",
   "name": "python",
   "nbconvert_exporter": "python",
   "pygments_lexer": "ipython3",
   "version": "3.9.4"
  }
 },
 "nbformat": 4,
 "nbformat_minor": 5
}
