{
 "cells": [
  {
   "cell_type": "code",
   "execution_count": 45,
   "id": "c76cc2af",
   "metadata": {},
   "outputs": [],
   "source": [
    "import csv\n",
    "import pandas as pd\n",
    "import pickle\n",
    "from sklearn.model_selection import train_test_split\n",
    "from sklearn import tree\n",
    "from sklearn import svm\n",
    "from sklearn import metrics\n",
    "from sklearn.neighbors import KNeighborsClassifier\n",
    "from sklearn.ensemble import RandomForestClassifier\n",
    "from sklearn.naive_bayes import MultinomialNB\n",
    "from sklearn.model_selection import cross_val_predict\n",
    "from sklearn.metrics import confusion_matrix\n",
    "import numpy as np"
   ]
  },
  {
   "cell_type": "code",
   "execution_count": 46,
   "id": "b63c2fac",
   "metadata": {},
   "outputs": [
    {
     "name": "stdout",
     "output_type": "stream",
     "text": [
      "Index(['qty_dot_url', 'qty_hyphen_url', 'qty_underline_url', 'qty_slash_url',\n",
      "       'qty_questionmark_url', 'qty_equal_url', 'qty_at_url', 'qty_and_url',\n",
      "       'qty_exclamation_url', 'qty_space_url',\n",
      "       ...\n",
      "       'qty_ip_resolved', 'qty_nameservers', 'qty_mx_servers', 'ttl_hostname',\n",
      "       'tls_ssl_certificate', 'qty_redirects', 'url_google_index',\n",
      "       'domain_google_index', 'url_shortened', 'phishing'],\n",
      "      dtype='object', length=112)\n",
      "(58645, 112)\n"
     ]
    }
   ],
   "source": [
    "dataset = pd.read_csv('../../../data/grega_dataset_small.csv')\n",
    "# dataset = pd.read_csv('../../../data/grega_dataset.csv')\n",
    "\n",
    "print(dataset.columns)\n",
    "print(dataset.shape)"
   ]
  },
  {
   "cell_type": "code",
   "execution_count": 47,
   "id": "7d681f23",
   "metadata": {},
   "outputs": [
    {
     "data": {
      "text/plain": [
       "qty_dot_url             False\n",
       "qty_hyphen_url          False\n",
       "qty_underline_url       False\n",
       "qty_slash_url           False\n",
       "qty_questionmark_url    False\n",
       "                        ...  \n",
       "qty_redirects           False\n",
       "url_google_index        False\n",
       "domain_google_index     False\n",
       "url_shortened           False\n",
       "phishing                False\n",
       "Length: 112, dtype: bool"
      ]
     },
     "execution_count": 47,
     "metadata": {},
     "output_type": "execute_result"
    }
   ],
   "source": [
    "dataset.isnull().any()"
   ]
  },
  {
   "cell_type": "code",
   "execution_count": 48,
   "id": "c0532a77",
   "metadata": {},
   "outputs": [],
   "source": [
    "train_data, test_data, train_labels, test_labels = train_test_split(\n",
    "    dataset.iloc[:, 0:97], \n",
    "    dataset.iloc[:, -1], \n",
    "    test_size=0.2\n",
    ")"
   ]
  },
  {
   "cell_type": "code",
   "execution_count": 49,
   "id": "fdfed171",
   "metadata": {},
   "outputs": [
    {
     "data": {
      "text/plain": [
       "((46916, 97), (46916,), (11729, 97), (11729,))"
      ]
     },
     "execution_count": 49,
     "metadata": {},
     "output_type": "execute_result"
    }
   ],
   "source": [
    "train_data.shape, train_labels.shape, test_data.shape, test_labels.shape"
   ]
  },
  {
   "cell_type": "code",
   "execution_count": 50,
   "id": "38a10570",
   "metadata": {},
   "outputs": [
    {
     "name": "stdout",
     "output_type": "stream",
     "text": [
      "       qty_dot_url  qty_hyphen_url  qty_underline_url  qty_slash_url  \\\n",
      "40219            3               0                  0              4   \n",
      "37980            6               1                  0              5   \n",
      "51222            2               0                  0              0   \n",
      "22808            3               1                  0              3   \n",
      "41027            1               0                  0              0   \n",
      "...            ...             ...                ...            ...   \n",
      "20795            2               0                  0              3   \n",
      "11547            2               0                  0              1   \n",
      "44881            2               0                  0              0   \n",
      "34055            2               0                  0              0   \n",
      "22702            2               1                  0              1   \n",
      "\n",
      "       qty_questionmark_url  qty_equal_url  qty_at_url  qty_and_url  \\\n",
      "40219                     0              2           0            1   \n",
      "37980                     0              5           1            5   \n",
      "51222                     0              0           0            0   \n",
      "22808                     0              0           0            0   \n",
      "41027                     0              0           0            0   \n",
      "...                     ...            ...         ...          ...   \n",
      "20795                     0              0           0            0   \n",
      "11547                     0              0           0            0   \n",
      "44881                     0              0           0            0   \n",
      "34055                     0              0           0            0   \n",
      "22702                     0              0           0            0   \n",
      "\n",
      "       qty_exclamation_url  qty_space_url  ...  qty_comma_params  \\\n",
      "40219                    0              0  ...                -1   \n",
      "37980                    0              0  ...                 0   \n",
      "51222                    0              0  ...                -1   \n",
      "22808                    0              0  ...                -1   \n",
      "41027                    0              0  ...                -1   \n",
      "...                    ...            ...  ...               ...   \n",
      "20795                    0              0  ...                -1   \n",
      "11547                    0              0  ...                -1   \n",
      "44881                    0              0  ...                -1   \n",
      "34055                    0              0  ...                -1   \n",
      "22702                    0              0  ...                -1   \n",
      "\n",
      "       qty_plus_params  qty_asterisk_params  qty_hashtag_params  \\\n",
      "40219               -1                   -1                  -1   \n",
      "37980                0                    0                   0   \n",
      "51222               -1                   -1                  -1   \n",
      "22808               -1                   -1                  -1   \n",
      "41027               -1                   -1                  -1   \n",
      "...                ...                  ...                 ...   \n",
      "20795               -1                   -1                  -1   \n",
      "11547               -1                   -1                  -1   \n",
      "44881               -1                   -1                  -1   \n",
      "34055               -1                   -1                  -1   \n",
      "22702               -1                   -1                  -1   \n",
      "\n",
      "       qty_dollar_params  qty_percent_params  params_length  \\\n",
      "40219                 -1                  -1             -1   \n",
      "37980                  0                   0             21   \n",
      "51222                 -1                  -1             -1   \n",
      "22808                 -1                  -1             -1   \n",
      "41027                 -1                  -1             -1   \n",
      "...                  ...                 ...            ...   \n",
      "20795                 -1                  -1             -1   \n",
      "11547                 -1                  -1             -1   \n",
      "44881                 -1                  -1             -1   \n",
      "34055                 -1                  -1             -1   \n",
      "22702                 -1                  -1             -1   \n",
      "\n",
      "       tld_present_params  qty_params  email_in_url  \n",
      "40219                  -1          -1             0  \n",
      "37980                   1           1             1  \n",
      "51222                  -1          -1             0  \n",
      "22808                  -1          -1             0  \n",
      "41027                  -1          -1             0  \n",
      "...                   ...         ...           ...  \n",
      "20795                  -1          -1             0  \n",
      "11547                  -1          -1             0  \n",
      "44881                  -1          -1             0  \n",
      "34055                  -1          -1             0  \n",
      "22702                  -1          -1             0  \n",
      "\n",
      "[46916 rows x 97 columns]\n"
     ]
    }
   ],
   "source": [
    "print(train_data)"
   ]
  },
  {
   "cell_type": "code",
   "execution_count": 51,
   "id": "efdcb991",
   "metadata": {},
   "outputs": [
    {
     "data": {
      "text/plain": [
       "0        0\n",
       "1        0\n",
       "2        0\n",
       "3        1\n",
       "4        1\n",
       "        ..\n",
       "58640    1\n",
       "58641    0\n",
       "58642    1\n",
       "58643    0\n",
       "58644    0\n",
       "Name: phishing, Length: 58645, dtype: int64"
      ]
     },
     "execution_count": 51,
     "metadata": {},
     "output_type": "execute_result"
    }
   ],
   "source": [
    "dataset.iloc[:, -1]"
   ]
  },
  {
   "cell_type": "code",
   "execution_count": 52,
   "id": "ed6050d6",
   "metadata": {},
   "outputs": [
    {
     "data": {
      "text/plain": [
       "KNeighborsClassifier(n_neighbors=50)"
      ]
     },
     "execution_count": 52,
     "metadata": {},
     "output_type": "execute_result"
    }
   ],
   "source": [
    "# clf = tree.DecisionTreeClassifier()\n",
    "clf = KNeighborsClassifier(n_neighbors=50)\n",
    "# clf = RandomForestClassifier(n_estimators=100, random_state=0)\n",
    "# clf = MultinomialNB()\n",
    "# clf = svm.SVC(kernel='linear')\n",
    "clf.fit(train_data, train_labels)"
   ]
  },
  {
   "cell_type": "code",
   "execution_count": 53,
   "id": "b4db8171",
   "metadata": {},
   "outputs": [
    {
     "name": "stdout",
     "output_type": "stream",
     "text": [
      "[[19386  3038]\n",
      " [ 2825 21667]]\n"
     ]
    }
   ],
   "source": [
    "pred_labels_val = cross_val_predict(clf, train_data, train_labels, cv=10)\n",
    "conf_mat = confusion_matrix(train_labels, pred_labels_val)\n",
    "print(conf_mat)"
   ]
  },
  {
   "cell_type": "code",
   "execution_count": 54,
   "id": "17863440",
   "metadata": {},
   "outputs": [],
   "source": [
    "pred_labels_test = clf.predict(test_data)"
   ]
  },
  {
   "cell_type": "code",
   "execution_count": 55,
   "id": "371e28bb",
   "metadata": {},
   "outputs": [
    {
     "name": "stdout",
     "output_type": "stream",
     "text": [
      "Accuracy: 0.8689572853610709\n",
      "Precision: 0.8745944192083063\n",
      "Recall: 0.8758732737611697\n"
     ]
    }
   ],
   "source": [
    "print(\"Accuracy:\", metrics.accuracy_score(test_labels, pred_labels_test))      # Calculating the accuracy of the model\n",
    "print(\"Precision:\", metrics.precision_score(test_labels, pred_labels_test))    # Calculating the precision of the model\n",
    "print(\"Recall:\", metrics.recall_score(test_labels, pred_labels_test)) "
   ]
  },
  {
   "cell_type": "code",
   "execution_count": 56,
   "id": "8a5e0907",
   "metadata": {},
   "outputs": [],
   "source": [
    "with open('../small-knn.pkl','wb') as f:     # save\n",
    "     pickle.dump(clf,f)"
   ]
  },
  {
   "cell_type": "code",
   "execution_count": null,
   "id": "bdac3a2f",
   "metadata": {},
   "outputs": [],
   "source": []
  }
 ],
 "metadata": {
  "kernelspec": {
   "display_name": "Python 3",
   "language": "python",
   "name": "python3"
  },
  "language_info": {
   "codemirror_mode": {
    "name": "ipython",
    "version": 3
   },
   "file_extension": ".py",
   "mimetype": "text/x-python",
   "name": "python",
   "nbconvert_exporter": "python",
   "pygments_lexer": "ipython3",
   "version": "3.9.4"
  }
 },
 "nbformat": 4,
 "nbformat_minor": 5
}
