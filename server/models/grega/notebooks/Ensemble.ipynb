{
 "cells": [
  {
   "cell_type": "code",
   "execution_count": 1,
   "id": "1604cd91",
   "metadata": {},
   "outputs": [],
   "source": [
    "import csv\n",
    "import pandas as pd\n",
    "import pickle\n",
    "from sklearn.model_selection import train_test_split\n",
    "from sklearn import tree\n",
    "from sklearn import svm\n",
    "from sklearn import metrics\n",
    "from sklearn.neighbors import KNeighborsClassifier\n",
    "from sklearn.ensemble import RandomForestClassifier\n",
    "from sklearn.naive_bayes import MultinomialNB\n",
    "from sklearn.model_selection import cross_val_predict\n",
    "from sklearn.metrics import confusion_matrix\n",
    "import numpy as np"
   ]
  },
  {
   "cell_type": "code",
   "execution_count": 6,
   "id": "e0028038",
   "metadata": {},
   "outputs": [
    {
     "name": "stdout",
     "output_type": "stream",
     "text": [
      "Index(['qty_dot_url', 'qty_hyphen_url', 'qty_underline_url', 'qty_slash_url',\n",
      "       'qty_questionmark_url', 'qty_equal_url', 'qty_at_url', 'qty_and_url',\n",
      "       'qty_exclamation_url', 'qty_space_url',\n",
      "       ...\n",
      "       'qty_ip_resolved', 'qty_nameservers', 'qty_mx_servers', 'ttl_hostname',\n",
      "       'tls_ssl_certificate', 'qty_redirects', 'url_google_index',\n",
      "       'domain_google_index', 'url_shortened', 'phishing'],\n",
      "      dtype='object', length=112)\n",
      "(88647, 112)\n"
     ]
    }
   ],
   "source": [
    "dataset = pd.read_csv('../../../data/grega_dataset.csv')\n",
    "\n",
    "print(dataset.columns)\n",
    "print(dataset.shape)"
   ]
  },
  {
   "cell_type": "code",
   "execution_count": 7,
   "id": "2c3e5955",
   "metadata": {},
   "outputs": [],
   "source": [
    "train_data, test_data, train_labels, test_labels = train_test_split(\n",
    "    dataset.iloc[:, 0:97], \n",
    "    dataset.iloc[:, -1], \n",
    "    test_size=0.2\n",
    ")"
   ]
  },
  {
   "cell_type": "code",
   "execution_count": 8,
   "id": "195a8f37",
   "metadata": {},
   "outputs": [],
   "source": [
    "dt_clf = tree.DecisionTreeClassifier()\n",
    "knn_clf = KNeighborsClassifier(n_neighbors=5)\n",
    "rf_clf = RandomForestClassifier(n_estimators=100, random_state=0)"
   ]
  },
  {
   "cell_type": "code",
   "execution_count": 9,
   "id": "b675706d",
   "metadata": {},
   "outputs": [
    {
     "data": {
      "text/plain": [
       "VotingClassifier(estimators=[('knn', KNeighborsClassifier()),\n",
       "                             ('rf', RandomForestClassifier(random_state=0)),\n",
       "                             ('dt', DecisionTreeClassifier())])"
      ]
     },
     "execution_count": 9,
     "metadata": {},
     "output_type": "execute_result"
    }
   ],
   "source": [
    "from sklearn.ensemble import VotingClassifier\n",
    "\n",
    "estimators=[('knn', knn_clf), ('rf', rf_clf), ('dt', dt_clf)]\n",
    "ensemble = VotingClassifier(estimators, voting='hard')\n",
    "ensemble.fit(train_data, train_labels)"
   ]
  },
  {
   "cell_type": "code",
   "execution_count": 10,
   "id": "7c85765b",
   "metadata": {},
   "outputs": [
    {
     "name": "stdout",
     "output_type": "stream",
     "text": [
      "[[44550  1787]\n",
      " [ 2630 21950]]\n"
     ]
    }
   ],
   "source": [
    "pred_labels_val = cross_val_predict(ensemble, train_data, train_labels, cv=10)\n",
    "conf_mat = confusion_matrix(train_labels, pred_labels_val)\n",
    "print(conf_mat)"
   ]
  },
  {
   "cell_type": "code",
   "execution_count": 12,
   "id": "e570d34f",
   "metadata": {},
   "outputs": [],
   "source": [
    "with open('../ensemble-knn-rf-dt.pkl','wb') as f:\n",
    "     pickle.dump(ensemble,f)"
   ]
  },
  {
   "cell_type": "code",
   "execution_count": 11,
   "id": "6d6ba234",
   "metadata": {},
   "outputs": [
    {
     "name": "stdout",
     "output_type": "stream",
     "text": [
      "Accuracy: 0.9395375070501975\n",
      "Precision: 0.9258312020460358\n",
      "Recall: 0.8950057689137959\n"
     ]
    }
   ],
   "source": [
    "pred_labels_test = ensemble.predict(test_data)\n",
    "print(\"Accuracy:\", metrics.accuracy_score(test_labels, pred_labels_test))      # Calculating the accuracy of the model\n",
    "print(\"Precision:\", metrics.precision_score(test_labels, pred_labels_test))    # Calculating the precision of the model\n",
    "print(\"Recall:\", metrics.recall_score(test_labels, pred_labels_test)) "
   ]
  }
 ],
 "metadata": {
  "kernelspec": {
   "display_name": "Python 3",
   "language": "python",
   "name": "python3"
  },
  "language_info": {
   "codemirror_mode": {
    "name": "ipython",
    "version": 3
   },
   "file_extension": ".py",
   "mimetype": "text/x-python",
   "name": "python",
   "nbconvert_exporter": "python",
   "pygments_lexer": "ipython3",
   "version": "3.9.4"
  }
 },
 "nbformat": 4,
 "nbformat_minor": 5
}
